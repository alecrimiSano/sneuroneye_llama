{
  "nbformat": 4,
  "nbformat_minor": 0,
  "metadata": {
    "colab": {
      "provenance": []
    },
    "kernelspec": {
      "name": "python3",
      "display_name": "Python 3"
    },
    "language_info": {
      "name": "python"
    }
  },
  "cells": [
    {
      "cell_type": "code",
      "execution_count": null,
      "metadata": {
        "id": "YHW_mVWA8AII"
      },
      "outputs": [],
      "source": [
        "#Install llama-index  (remove the \"!\" if you are not on colab)\n",
        "#!pip install llama-index\n",
        "!pip install llama-index ipywidgets"
      ]
    },
    {
      "cell_type": "code",
      "source": [
        "#Replicate account connection\n",
        "#import os\n",
        "#os.environ[\"REPLICATE_API_TOKEN\"] = \"REPLICATE_API_TOKEN\"          #Add here your replicate token from HuggingFace\n",
        "\n",
        "import logging\n",
        "import sys\n",
        "\n",
        "logging.basicConfig(stream=sys.stdout, level=logging.INFO)\n",
        "logging.getLogger().addHandler(logging.StreamHandler(stream=sys.stdout))\n",
        "\n",
        "\n",
        "from IPython.display import Markdown, display"
      ],
      "metadata": {
        "id": "11x3KXax9ZZB"
      },
      "execution_count": null,
      "outputs": []
    },
    {
      "cell_type": "code",
      "source": [
        "#It is a miracle locally you will be able to load a 7B parameters model, but if you want you can put something bigger\n",
        "\n",
        "import torch\n",
        "from llama_index.llms import HuggingFaceLLM\n",
        "from llama_index.prompts import PromptTemplate\n",
        "\n",
        "LLAMA2_7B = \"meta-llama/Llama-2-7b-hf\"\n",
        "LLAMA2_7B_CHAT = \"meta-llama/Llama-2-7b-chat-hf\"\n",
        "LLAMA2_13B = \"meta-llama/Llama-2-13b-hf\"\n",
        "LLAMA2_13B_CHAT = \"meta-llama/Llama-2-13b-chat-hf\"\n",
        "LLAMA2_70B = \"meta-llama/Llama-2-70b-hf\"\n",
        "LLAMA2_70B_CHAT = \"meta-llama/Llama-2-70b-chat-hf\"\n",
        "\n",
        "selected_model = LLAMA2_7B\n",
        "\n",
        "SYSTEM_PROMPT = \"\"\"You are a chatbot, let me add more knowledge to you\"\"\"\n",
        "\n",
        "query_wrapper_prompt = PromptTemplate(\n",
        "    \"[INST]<<SYS>>\\n\" + SYSTEM_PROMPT + \"<</SYS>>\\n\\n{query_str}[/INST] \"\n",
        ")\n",
        "\n",
        "llm = HuggingFaceLLM(\n",
        "    context_window=4096,\n",
        "    max_new_tokens=2048,\n",
        "    generate_kwargs={\"temperature\": 0.0, \"do_sample\": False},\n",
        "    query_wrapper_prompt=query_wrapper_prompt,\n",
        "    tokenizer_name=selected_model,\n",
        "    model_name=selected_model,\n",
        "    device_map=\"auto\",\n",
        "    # change these settings below depending on your GPU\n",
        "    model_kwargs={\"torch_dtype\": torch.float16, \"load_in_8bit\": True},\n",
        ")"
      ],
      "metadata": {
        "id": "v8d7Xsok-u62"
      },
      "execution_count": null,
      "outputs": []
    },
    {
      "cell_type": "code",
      "source": [
        "#Put the papers with geometric information about brain lesions and clinical knowledge in a folde\n",
        "\n",
        "from llama_index import SimpleDirectoryReader\n",
        "\n",
        "# load documents\n",
        "documents = SimpleDirectoryReader(\"./data/\").load_data()\n",
        "from llama_index import (\n",
        "    VectorStoreIndex,\n",
        "    ServiceContext,\n",
        "    set_global_service_context,\n",
        ")\n",
        "\n",
        "service_context = ServiceContext.from_defaults(\n",
        "    llm=llm, embed_model=\"local:BAAI/bge-small-en\"\n",
        ")\n",
        "set_global_service_context(service_context)\n",
        "\n",
        "index = VectorStoreIndex.from_documents(documents)\n",
        "\n",
        "\n",
        "#By default, data is stored in-memory. To persist to disk (under ./storage):\n",
        "\n",
        "index.storage_context.persist()\n",
        "\n",
        "#To reload from disk in the future:\n",
        "'''\n",
        "from llama_index import StorageContext, load_index_from_storage\n",
        "\n",
        "# rebuild storage context\n",
        "storage_context = StorageContext.from_defaults(persist_dir='./storage')\n",
        "# load index\n",
        "index = load_index_from_storage(storage_context)\n",
        "'''"
      ],
      "metadata": {
        "id": "nkVLQBLJ-ylL"
      },
      "execution_count": null,
      "outputs": []
    }
  ]
}